{
 "cells": [
  {
   "cell_type": "code",
   "execution_count": 271,
   "metadata": {},
   "outputs": [],
   "source": [
    "import numpy as np\n",
    "import pandas as pd\n",
    "from csv import reader\n",
    "import math\n",
    "\n",
    "pd.set_option('mode.chained_assignment',  None) # Turning off the alert\n",
    "\n",
    "header_list = [\"patientNo\", \"gender\", \"visit\", \"HR\", \"SBP\", \"DBP\", \"DX\", \"AE\"]\n",
    "df = pd.read_table(\"patients.txt\", delimiter =\";\", names=header_list, skipinitialspace = True)"
   ]
  },
  {
   "cell_type": "code",
   "execution_count": 272,
   "metadata": {},
   "outputs": [],
   "source": [
    "for idx in range(len(df[\"HR\"])):\n",
    "    if  type(df[\"HR\"][idx]) == str and not df['HR'][idx].isnumeric():\n",
    "        df[\"HR\"][idx] = \"40\"\n",
    "    elif df[\"HR\"][idx] == \"   \" or df['HR'][idx]==\"NaN\":\n",
    "        df[\"HR\"][idx] = \"40\"\n",
    "\n",
    "\n",
    "# temp = df[\"HR\"][(df['HR'] < 40) | (df['HR'] > 100)]\n",
    "\n",
    "# HR_mean = int(df[\"HR\"].mean()) #Get mean value\n",
    "# df[\"HR\"] = df[\"HR\"].replace(temp.values, HR_mean) #Replace mean value to the outlier\n",
    "\n",
    "\n",
    "\n",
    "\n",
    "# Q3,Q1 = np.percentile(np.array(df['HR']), [75, 25])\n",
    "\n",
    "# IQR = Q3 - Q1\n",
    "# print(Q3+IQR*1.5)\n",
    "# pd.set_option('mode.chained_assignment',  None) # Turning off the alert\n",
    "# df['HR'] = np.where(df['HR'] <= (Q1-1.5*IQR), 40, df['HR'])\n",
    "# df['HR'] = np.where(df['HR'] >= (Q3+1.0*IQR), 100, df['HR'])\n",
    "\n",
    "# print(df[\"HR\"])"
   ]
  },
  {
   "cell_type": "code",
   "execution_count": 273,
   "metadata": {},
   "outputs": [],
   "source": [
    "missingValue_list = []\n",
    "def patientNo_check(df):\n",
    "    for i in range(len(df[\"patientNo\"])):\n",
    "        if not isinstance(df[\"patientNo\"][i], str) and math.isnan(df[\"patientNo\"][i]): #when the value is missing\n",
    "            missingValue_list.append(i)\n",
    "        elif not isinstance(df[\"patientNo\"][i], str) and df[\"patientNo\"][i] < 1000:\n",
    "            missingValue_list.append(i)\n",
    "        elif not df[\"patientNo\"][i].isnumeric(): #when the value is not numeric value\n",
    "            missingValue_list.append(i)\n",
    "\n",
    "patientNo_check(df)\n",
    "           \n",
    "\n",
    "tempDuplicated = df[\"patientNo\"].duplicated()\n",
    "duplicatedList = np.where(tempDuplicated)[0]\n",
    "\n",
    "\n",
    "new_arr = np.concatenate((missingValue_list, duplicatedList))\n",
    "\n",
    "\n",
    "for i in new_arr:\n",
    "    randomValue = np.random.randint(0,999)    \n",
    "    while randomValue in df[\"patientNo\"]: \n",
    "        randomValue = np.random.randint(0,999)    \n",
    "    df[\"patientNo\"][i] = randomValue"
   ]
  },
  {
   "cell_type": "code",
   "execution_count": 274,
   "metadata": {},
   "outputs": [],
   "source": [
    "def gender_check(df):\n",
    "    for i in range(len(df[\"gender\"])):        \n",
    "        if df[\"gender\"][i] != \"M\" and df[\"gender\"][i] != \"F\":\n",
    "            df[\"gender\"][i] = \"Unanswered\""
   ]
  },
  {
   "cell_type": "code",
   "execution_count": 275,
   "metadata": {},
   "outputs": [],
   "source": [
    "def visitdate_check(df):\n",
    "    for i in range(len(df[\"visit\"])):\n",
    "        if df[\"visit\"][i] == \"        \":\n",
    "            df[\"visit\"][i] = \"01011900\"\n",
    "            continue\n",
    "        if not df[\"visit\"][i].isnumeric():\n",
    "            df[\"visit\"][i] = \"01011900\"\n",
    "            continue\n",
    "        \n",
    "        month = int(df[\"visit\"][i][0:2])\n",
    "        day = int(df[\"visit\"][i][2:4])\n",
    "        year = int(df[\"visit\"][i][4:8])\n",
    "\n",
    "        if month > 12:\n",
    "            month = \"12\"\n",
    "        if day > 31:\n",
    "            day = \"31\"\n",
    "        if year > 1999:\n",
    "            year = \"1999\"\n",
    "        \n",
    "        df[\"visit\"][i] = (str(month).zfill(2) + str(day).zfill(2) + str(year).zfill(2))            "
   ]
  },
  {
   "cell_type": "code",
   "execution_count": 276,
   "metadata": {},
   "outputs": [],
   "source": [
    "\n",
    "# def HR_check2(df):\n",
    "#     for idx in range(len(df[\"HR\"])):\n",
    "#         if  type(df[\"HR\"][idx]) == str and not df['HR'][idx].isnumeric():\n",
    "#             df[\"HR\"][idx] = \"40\"\n",
    "#         elif df[\"HR\"][idx] == \"   \" or df['HR'][idx]==\"NaN\":\n",
    "#             df[\"HR\"][idx] = \"40\"\n",
    "\n",
    "#     df[\"HR\"].fillna(40, inplace=True)\n",
    "#     df[\"HR\"] = df[\"HR\"].astype(int)\n",
    "\n",
    "#     temp = df[\"HR\"][(df['HR'] < 40) | (df['HR'] > 100)]\n",
    "\n",
    "#     HR_mean = int(df[\"HR\"].mean()) #Get mean value\n",
    "#     df[\"HR\"] = df[\"HR\"].replace(temp.values, HR_mean) #Replace mean value to the outlier\n",
    "    \n",
    "\n",
    "def HR_check(df):\n",
    "    df[\"HR\"] = pd.to_numeric(df[\"HR\"], errors='coerce', downcast ='unsigned')\n",
    "    df['HR'].fillna(40, inplace=True)\n",
    "    df[\"HR\"] = df[\"HR\"].astype(int)\n",
    "    \n",
    "    HR_mean = int(df[\"HR\"].mean()) #Get mean value\n",
    "    \n",
    "    \n",
    "    temp = df[\"HR\"][(df['HR'] < 40) | (df['HR'] > 100)]\n",
    "    HR_mean = int(df[\"HR\"].mean()) #Get mean value\n",
    "    df[\"HR\"] = df[\"HR\"].replace(temp.values, HR_mean) #Replace mean value to the outlier\n",
    "    "
   ]
  },
  {
   "cell_type": "code",
   "execution_count": 277,
   "metadata": {},
   "outputs": [],
   "source": [
    "def SBP_check(df):\n",
    "    for idx in range(len(df[\"SBP\"])):\n",
    "        if df[\"SBP\"][idx] == \"   \" or df['SBP'][idx]==\"NaN\":\n",
    "            df[\"SBP\"][idx] = \"80\"\n",
    "    \n",
    "    df[\"SBP\"].fillna(80, inplace=True)\n",
    "    df[\"SBP\"] = df[\"SBP\"].astype(int)\n",
    "    \n",
    "    temp = df[\"SBP\"][(df['SBP'] < 80) | (df['SBP'] > 200) ]\n",
    "\n",
    "    SBP_mean = int(df[\"SBP\"].mean()) #Get mean value\n",
    "    df[\"SBP\"] = df[\"SBP\"].replace(temp.values, SBP_mean) #Replace mean value to the outlier"
   ]
  },
  {
   "cell_type": "code",
   "execution_count": 278,
   "metadata": {},
   "outputs": [],
   "source": [
    "def DBP_check(df):\n",
    "    for i in range(len(df[\"DBP\"])):\n",
    "        if df[\"DBP\"][i] == \"   \" :\n",
    "            df[\"DBP\"][i] = \"60\"\n",
    "\n",
    "    df[\"DBP\"].fillna(60, inplace=True)\n",
    "    df[\"DBP\"] = df[\"DBP\"].astype(int)\n",
    "    \n",
    "    temp = df[\"DBP\"][(df['DBP'] < 60) | (df['DBP'] > 120) ]\n",
    "\n",
    "    DBP_mean = int(df[\"DBP\"].mean()) #Get mean value\n",
    "    df[\"DBP\"] = df[\"DBP\"].replace(temp.values, DBP_mean) #Replace mean value to the outlier"
   ]
  },
  {
   "cell_type": "code",
   "execution_count": 279,
   "metadata": {},
   "outputs": [],
   "source": [
    "def DX_check(df):\n",
    "    df[\"DX\"] = df[\"DX\"].replace(np.nan, \"999\") #Replace mean value to the outlier\n",
    "    for i in range(len(df[\"DX\"])):\n",
    "        if not df[\"DX\"][i].isnumeric():\n",
    "            df[\"DX\"][i] = \"999\""
   ]
  },
  {
   "cell_type": "code",
   "execution_count": 280,
   "metadata": {},
   "outputs": [],
   "source": [
    "def AE_check(df):\n",
    "    for i in range(len(df[\"AE\"])):\n",
    "        if df[\"AE\"][i] != \"0\" and df[\"AE\"][i] != \"1\":\n",
    "            df[\"AE\"][i] = \"0\""
   ]
  },
  {
   "cell_type": "code",
   "execution_count": 281,
   "metadata": {},
   "outputs": [
    {
     "name": "stdout",
     "output_type": "stream",
     "text": [
      "   patientNo gender     visit  HR  SBP  DBP   DX AE\n",
      "0        001      M  11111998  88  140   80    1  0\n",
      "1        002      F  11131998  84  120   78  999  0\n",
      "2        003      M  10211998  68  190  100    3  1\n",
      "3        004      F  01011999  99  200  120    5  0\n",
      "4        360      M  05071998  68  120   80    1  0\n",
      "5        006      F  06151999  72  102   68    6  1\n",
      "6        007      M  08311998  88  148  102  999  0\n",
      "7        490      M  11111998  90  190  100  999  0\n",
      "8        008      F  08081998  99   80   60    7  0\n",
      "9        009      M  09251999  86  136   85    4  1\n",
      "10       010      F  10191999  40  136  120    1  0\n",
      "11       011      M  12131998  68  136   85    4  1\n",
      "12       012      M  01011900  60  122   74  999  0\n",
      "13       013      F  08231999  74  108   64    1  0\n",
      "14       014      M  02021999  99  130   90  999  1\n",
      "15       675      F  11131998  84  120   78  999  0\n",
      "16       562      M  11121999  58  112   74  999  0\n",
      "17       015      F  01011900  82  148   88    3  1\n",
      "18       017      F  04051999  99   80   84    2  0\n",
      "19       019      M  06071999  58  118   70  999  0\n",
      "20       123      M  12121999  60   80   60    1  0\n",
      "21       321      F  01011900  99  136   85    5  1\n",
      "22       020      F  12311999  99  136   85  999  0\n",
      "23       022      M  10101999  48  114   82    2  1\n",
      "24       023      F  12311998  99  136   78  999  0\n",
      "25       024      F  11091998  40  120   80    1  0\n",
      "26       025      M  01011999  74  102   68    5  1\n",
      "27       027      F  01011900  40  166  106    7  0\n",
      "28       028      F  03281998  66  150   90    3  0\n",
      "29       029      M  05151998  40   80   60    4  1\n",
      "30       461      F  07071999  82  148   84    1  0\n"
     ]
    }
   ],
   "source": [
    "HR_check(df)\n",
    "gender_check(df)\n",
    "patientNo_check(df)\n",
    "DBP_check(df)\n",
    "SBP_check(df)\n",
    "DX_check(df)\n",
    "AE_check(df)\n",
    "visitdate_check(df)\n",
    "\n",
    "print(df)"
   ]
  }
 ],
 "metadata": {
  "kernelspec": {
   "display_name": "Python 3",
   "language": "python",
   "name": "python3"
  },
  "language_info": {
   "codemirror_mode": {
    "name": "ipython",
    "version": 3
   },
   "file_extension": ".py",
   "mimetype": "text/x-python",
   "name": "python",
   "nbconvert_exporter": "python",
   "pygments_lexer": "ipython3",
   "version": "3.8.5"
  }
 },
 "nbformat": 4,
 "nbformat_minor": 4
}
