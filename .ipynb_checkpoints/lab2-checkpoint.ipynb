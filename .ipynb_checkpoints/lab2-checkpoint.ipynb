{
 "cells": [
  {
   "cell_type": "code",
   "execution_count": 1,
   "metadata": {},
   "outputs": [],
   "source": [
    "import numpy as np\n",
    "import pandas as pd\n",
    "from csv import reader\n",
    "import math\n",
    "\n",
    "pd.set_option('mode.chained_assignment',  None) # <==== 경고를 끈다\n",
    "\n",
    "header_list = [\"patientNo\", \"gender\", \"visit\", \"HR\", \"SBP\", \"DBP\", \"DX\", \"AE\"]\n",
    "df = pd.read_table(\"patients.txt\", delimiter =\";\", names=header_list, skipinitialspace = True)"
   ]
  },
  {
   "cell_type": "code",
   "execution_count": 2,
   "metadata": {},
   "outputs": [],
   "source": [
    "missingValue_list = []\n",
    "def patientNo_check(df):\n",
    "    for i in range(len(df[\"patientNo\"])):\n",
    "        if not isinstance(df[\"patientNo\"][i], str) and math.isnan(df[\"patientNo\"][i]): #when the value is missing\n",
    "            missingValue_list.append(i)\n",
    "        elif not isinstance(df[\"patientNo\"][i], str) and df[\"patientNo\"][i] < 1000:\n",
    "            missingValue_list.append(i)\n",
    "        elif not df[\"patientNo\"][i].isnumeric(): #when the value is not numeric value\n",
    "            missingValue_list.append(i)\n",
    "\n",
    "patient_No(df)\n",
    "           \n",
    "\n",
    "tempDuplicated = df[\"patientNo\"].duplicated()\n",
    "duplicatedList = np.where(tempDuplicated)[0]\n",
    "\n",
    "\n",
    "new_arr = np.concatenate((missingValue_list, duplicatedList))\n",
    "\n",
    "\n",
    "for i in new_arr:\n",
    "    randomValue = np.random.randint(0,999)    \n",
    "    while randomValue in df[\"patientNo\"]: \n",
    "        randomValue = np.random.randint(0,999)    \n",
    "    df[\"patientNo\"][i] = randomValue"
   ]
  },
  {
   "cell_type": "code",
   "execution_count": 3,
   "metadata": {},
   "outputs": [],
   "source": [
    "def gender_check(df):\n",
    "    for i in range(len(df[\"gender\"])):        \n",
    "        if df[\"gender\"][i] != \"M\" and df[\"gender\"][i] != \"F\":\n",
    "            df[\"gender\"][i] = \"Unanswered\"\n"
   ]
  },
  {
   "cell_type": "code",
   "execution_count": 4,
   "metadata": {},
   "outputs": [],
   "source": [
    "def visitdate_check(df):\n",
    "    for i in range(len(df[\"visit\"])):\n",
    "        if df[\"visit\"][i] == \"        \":\n",
    "            df[\"visit\"][i] = \"01011900\"\n",
    "            continue\n",
    "        if not df[\"visit\"][i].isnumeric():\n",
    "            df[\"visit\"][i] = \"01011900\"\n",
    "            continue\n",
    "        \n",
    "        month = int(df[\"visit\"][i][0:2])\n",
    "        day = int(df[\"visit\"][i][2:4])\n",
    "        year = int(df[\"visit\"][i][4:8])\n",
    "\n",
    "        if month > 12:\n",
    "            month = \"12\"\n",
    "        if day > 31:\n",
    "            day = \"31\"\n",
    "        if year > 1999:\n",
    "            year = \"1999\"\n",
    "        \n",
    "        df[\"visit\"][i] = (str(month).zfill(2) + str(day).zfill(2) + str(year).zfill(2))            "
   ]
  },
  {
   "cell_type": "code",
   "execution_count": 5,
   "metadata": {},
   "outputs": [],
   "source": [
    "def HR_check(df):\n",
    "\n",
    "    df['HR'] = df['HR'].str.strip() #===============\n",
    "\n",
    "    for i in range(len(df[\"HR\"])):\n",
    "      #Removing whitespace\n",
    "        df['HR'] = df['HR'].str.strip() \n",
    "\n",
    "        if df[\"HR\"][i] == \"   \" or df['HR'][i]==\"NA\":\n",
    "            df[\"HR\"][i] = \"40\"\n",
    "\n",
    "    df[\"HR\"].fillna(40, inplace=True)\n",
    "    df[\"HR\"] = df[\"HR\"].astype(int)\n",
    "    temp = df[\"HR\"][(df['HR'] < 40) | (df['HR'] > 100) ]\n",
    "    HR_mean = int(df[\"HR\"].mean()) #Get mean value\n",
    "    df[\"HR\"] = df[\"HR\"].replace(temp.values, HR_mean) #Replace mean value to the outlier    "
   ]
  },
  {
   "cell_type": "code",
   "execution_count": 6,
   "metadata": {},
   "outputs": [],
   "source": [
    "def SBP_check(df):\n",
    "    for idx in range(len(df[\"SBP\"])):\n",
    "        if df[\"SBP\"][idx] == \"   \" or df['SBP'][idx]==\"NaN\":\n",
    "            df[\"SBP\"][idx] = \"80\"\n",
    "    \n",
    "    df[\"SBP\"].fillna(80, inplace=True)\n",
    "    df[\"SBP\"] = df[\"SBP\"].astype(int)\n",
    "    \n",
    "    temp = df[\"SBP\"][(df['SBP'] < 80) | (df['SBP'] > 200) ]\n",
    "\n",
    "    # df[\"SBP\"] = df[\"SBP\"].where( df['SBP'] < 80 | df['SBP'] > 200)\n",
    "\n",
    "    SBP_mean = int(df[\"SBP\"].mean()) #Get mean value\n",
    "    df[\"SBP\"] = df[\"SBP\"].replace(temp.values, SBP_mean) #Replace mean value to the outlier"
   ]
  },
  {
   "cell_type": "code",
   "execution_count": 7,
   "metadata": {},
   "outputs": [],
   "source": [
    "def DBP_check(df):\n",
    "    for i in range(len(df[\"DBP\"])):\n",
    "        if df[\"DBP\"][i] == \"   \" :\n",
    "            df[\"DBP\"][i] = \"60\"\n",
    "\n",
    "    df[\"DBP\"].fillna(60, inplace=True)\n",
    "    df[\"DBP\"] = df[\"DBP\"].astype(int)\n",
    "    \n",
    "    temp = df[\"DBP\"][(df['DBP'] < 60) | (df['DBP'] > 120) ]\n",
    "\n",
    "    DBP_mean = int(df[\"DBP\"].mean()) #Get mean value\n",
    "    df[\"DBP\"] = df[\"DBP\"].replace(temp.values, DBP_mean) #Replace mean value to the outlier"
   ]
  },
  {
   "cell_type": "code",
   "execution_count": 8,
   "metadata": {},
   "outputs": [],
   "source": [
    "def DX_check(df):\n",
    "    df[\"DX\"] = df[\"DX\"].replace(np.nan, \"999\") #Replace mean value to the outlier\n",
    "    for i in range(len(df[\"DX\"])):\n",
    "        if not df[\"DX\"][i].isnumeric():\n",
    "            df[\"DX\"][i] = \"999\""
   ]
  },
  {
   "cell_type": "code",
   "execution_count": 9,
   "metadata": {},
   "outputs": [],
   "source": [
    "def AE_check(df):\n",
    "    for i in range(len(df[\"AE\"])):\n",
    "        if df[\"AE\"][i] != \"0\" and df[\"AE\"][i] != \"1\":\n",
    "            df[\"AE\"][i] = \"0\""
   ]
  },
  {
   "cell_type": "code",
   "execution_count": 10,
   "metadata": {},
   "outputs": [
    {
     "ename": "NameError",
     "evalue": "name 'patientNo_check' is not defined",
     "output_type": "error",
     "traceback": [
      "\u001b[0;31m---------------------------------------------------------------------------\u001b[0m",
      "\u001b[0;31mNameError\u001b[0m                                 Traceback (most recent call last)",
      "\u001b[0;32m<ipython-input-10-3dc2cc428cd5>\u001b[0m in \u001b[0;36m<module>\u001b[0;34m\u001b[0m\n\u001b[1;32m      1\u001b[0m \u001b[0;31m# HR_check(df)\u001b[0m\u001b[0;34m\u001b[0m\u001b[0;34m\u001b[0m\u001b[0;34m\u001b[0m\u001b[0m\n\u001b[1;32m      2\u001b[0m \u001b[0mgender_check\u001b[0m\u001b[0;34m(\u001b[0m\u001b[0mdf\u001b[0m\u001b[0;34m)\u001b[0m\u001b[0;34m\u001b[0m\u001b[0;34m\u001b[0m\u001b[0m\n\u001b[0;32m----> 3\u001b[0;31m \u001b[0mpatientNo_check\u001b[0m\u001b[0;34m(\u001b[0m\u001b[0mdf\u001b[0m\u001b[0;34m)\u001b[0m\u001b[0;34m\u001b[0m\u001b[0;34m\u001b[0m\u001b[0m\n\u001b[0m\u001b[1;32m      4\u001b[0m \u001b[0mDBP_check\u001b[0m\u001b[0;34m(\u001b[0m\u001b[0mdf\u001b[0m\u001b[0;34m)\u001b[0m\u001b[0;34m\u001b[0m\u001b[0;34m\u001b[0m\u001b[0m\n\u001b[1;32m      5\u001b[0m \u001b[0mSBP_check\u001b[0m\u001b[0;34m(\u001b[0m\u001b[0mdf\u001b[0m\u001b[0;34m)\u001b[0m\u001b[0;34m\u001b[0m\u001b[0;34m\u001b[0m\u001b[0m\n",
      "\u001b[0;31mNameError\u001b[0m: name 'patientNo_check' is not defined"
     ]
    }
   ],
   "source": [
    "# HR_check(df)\n",
    "gender_check(df)\n",
    "patientNo_check(df)\n",
    "DBP_check(df)\n",
    "SBP_check(df)\n",
    "DX_check(df)\n",
    "AE_check(df)\n",
    "visitdate_check(df)\n",
    "\n",
    "print(df)"
   ]
  }
 ],
 "metadata": {
  "kernelspec": {
   "display_name": "Python 3",
   "language": "python",
   "name": "python3"
  },
  "language_info": {
   "codemirror_mode": {
    "name": "ipython",
    "version": 3
   },
   "file_extension": ".py",
   "mimetype": "text/x-python",
   "name": "python",
   "nbconvert_exporter": "python",
   "pygments_lexer": "ipython3",
   "version": "3.8.5"
  }
 },
 "nbformat": 4,
 "nbformat_minor": 4
}
